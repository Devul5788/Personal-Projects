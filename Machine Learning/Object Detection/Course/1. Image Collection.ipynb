{
 "cells": [
  {
   "cell_type": "markdown",
   "metadata": {},
   "source": [
    "# 1. Import Dependencies"
   ]
  },
  {
   "cell_type": "code",
   "execution_count": 1,
   "metadata": {},
   "outputs": [
    {
     "name": "stdout",
     "output_type": "stream",
     "text": [
      "Requirement already satisfied: opencv-python in c:\\users\\devul nahar\\desktop\\object detection\\tfodcourse\\tfod\\lib\\site-packages (4.5.5.62)\n",
      "Requirement already satisfied: numpy>=1.14.5 in c:\\users\\devul nahar\\desktop\\object detection\\tfodcourse\\tfod\\lib\\site-packages (from opencv-python) (1.18.5)\n"
     ]
    }
   ],
   "source": [
    "!pip install opencv-python"
   ]
  },
  {
   "cell_type": "code",
   "execution_count": 2,
   "metadata": {},
   "outputs": [],
   "source": [
    "# Import opencv\n",
    "import cv2 \n",
    "\n",
    "# Import uuid\n",
    "import uuid\n",
    "\n",
    "# Import Operating System\n",
    "import os\n",
    "\n",
    "# Import time\n",
    "import time"
   ]
  },
  {
   "cell_type": "markdown",
   "metadata": {},
   "source": [
    "# 2. Define Images to Collect"
   ]
  },
  {
   "cell_type": "code",
   "execution_count": 3,
   "metadata": {},
   "outputs": [],
   "source": [
    "labels = ['thumbsup', 'thumbsdown', 'thankyou', 'livelong']\n",
    "#labels = ['thumbsdown']\n",
    "number_imgs = 5\n",
    "#number_imgs = 1"
   ]
  },
  {
   "cell_type": "markdown",
   "metadata": {},
   "source": [
    "# 3. Setup Folders "
   ]
  },
  {
   "cell_type": "code",
   "execution_count": 4,
   "metadata": {},
   "outputs": [],
   "source": [
    "IMAGES_PATH = os.path.join('Tensorflow', 'workspace', 'images', 'collectedimages')"
   ]
  },
  {
   "cell_type": "code",
   "execution_count": 13,
   "metadata": {},
   "outputs": [],
   "source": [
    "if not os.path.exists(IMAGES_PATH):\n",
    "    if os.name == 'posix':\n",
    "        !mkdir -p {IMAGES_PATH}\n",
    "    if os.name == 'nt':\n",
    "         !mkdir {IMAGES_PATH}\n",
    "for label in labels:\n",
    "    path = os.path.join(IMAGES_PATH, label)\n",
    "    if not os.path.exists(path):\n",
    "        !mkdir {path}"
   ]
  },
  {
   "cell_type": "markdown",
   "metadata": {},
   "source": [
    "# 4. Capture Images"
   ]
  },
  {
   "cell_type": "code",
   "execution_count": 14,
   "metadata": {},
   "outputs": [
    {
     "name": "stdout",
     "output_type": "stream",
     "text": [
      "Collecting images for thumbsup\n",
      "Collecting image 0\n",
      "Collecting image 1\n",
      "Collecting image 2\n",
      "Collecting image 3\n",
      "Collecting image 4\n",
      "Collecting images for thumbsdown\n",
      "Collecting image 0\n",
      "Collecting image 1\n",
      "Collecting image 2\n",
      "Collecting image 3\n",
      "Collecting image 4\n",
      "Collecting images for thankyou\n",
      "Collecting image 0\n",
      "Collecting image 1\n",
      "Collecting image 2\n",
      "Collecting image 3\n",
      "Collecting image 4\n",
      "Collecting images for livelong\n",
      "Collecting image 0\n",
      "Collecting image 1\n",
      "Collecting image 2\n",
      "Collecting image 3\n",
      "Collecting image 4\n"
     ]
    }
   ],
   "source": [
    "for label in labels:\n",
    "    cap = cv2.VideoCapture(0)\n",
    "    print('Collecting images for {}'.format(label))\n",
    "    time.sleep(5)\n",
    "    for imgnum in range(number_imgs):\n",
    "        print('Collecting image {}'.format(imgnum))\n",
    "        ret, frame = cap.read()\n",
    "        imgname = os.path.join(IMAGES_PATH,label,label+'.'+'{}.jpg'.format(str(uuid.uuid1())))\n",
    "        cv2.imwrite(imgname, frame)\n",
    "        cv2.imshow('frame', frame)\n",
    "        time.sleep(2)\n",
    "\n",
    "        if cv2.waitKey(1) & 0xFF == ord('q'):\n",
    "            break\n",
    "cap.release()\n",
    "cv2.destroyAllWindows()"
   ]
  },
  {
   "cell_type": "markdown",
   "metadata": {},
   "source": [
    "# 5. Image Labelling"
   ]
  },
  {
   "cell_type": "code",
   "execution_count": 6,
   "metadata": {},
   "outputs": [
    {
     "name": "stdout",
     "output_type": "stream",
     "text": [
      "Collecting pyqt5\n",
      "  Using cached PyQt5-5.15.6-cp36-abi3-win_amd64.whl (6.7 MB)\n",
      "Collecting lxml\n",
      "  Using cached lxml-4.7.1-cp38-cp38-win_amd64.whl (3.7 MB)\n",
      "Collecting PyQt5-Qt5>=5.15.2\n",
      "  Using cached PyQt5_Qt5-5.15.2-py3-none-win_amd64.whl (50.1 MB)\n",
      "Collecting PyQt5-sip<13,>=12.8\n",
      "  Using cached PyQt5_sip-12.9.0-cp38-cp38-win_amd64.whl (63 kB)\n",
      "Installing collected packages: PyQt5-sip, PyQt5-Qt5, pyqt5, lxml\n",
      "Successfully installed PyQt5-Qt5-5.15.2 PyQt5-sip-12.9.0 lxml-4.7.1 pyqt5-5.15.6\n"
     ]
    }
   ],
   "source": [
    "!pip install --upgrade pyqt5 lxml"
   ]
  },
  {
   "cell_type": "code",
   "execution_count": 7,
   "metadata": {},
   "outputs": [],
   "source": [
    "LABELIMG_PATH = os.path.join('Tensorflow', 'labelimg')"
   ]
  },
  {
   "cell_type": "code",
   "execution_count": 8,
   "metadata": {},
   "outputs": [
    {
     "name": "stdout",
     "output_type": "stream",
     "text": [
      "Package           Version\n",
      "----------------- --------\n",
      "backcall          0.2.0\n",
      "colorama          0.4.4\n",
      "debugpy           1.5.1\n",
      "decorator         5.1.1\n",
      "entrypoints       0.3\n",
      "ipykernel         6.6.1\n",
      "ipython           7.31.0\n",
      "jedi              0.18.1\n",
      "jupyter-client    7.1.0\n",
      "jupyter-core      4.9.1\n",
      "lxml              4.7.1\n",
      "matplotlib-inline 0.1.3\n",
      "nest-asyncio      1.5.4\n",
      "numpy             1.22.0\n",
      "opencv-python     4.5.5.62\n",
      "parso             0.8.3\n",
      "pickleshare       0.7.5\n",
      "pip               21.3.1Note: you may need to restart the kernel to use updated packages.\n",
      "prompt-toolkit    3.0.24\n",
      "Pygments          2.11.2\n",
      "PyQt5             5.15.6\n",
      "PyQt5-Qt5         5.15.2\n",
      "PyQt5-sip         12.9.0\n",
      "python-dateutil   2.8.2\n",
      "pywin32           303\n",
      "pyzmq             22.3.0\n",
      "\n",
      "setuptools        49.2.1\n",
      "six               1.16.0\n",
      "tornado           6.1\n",
      "traitlets         5.1.1\n",
      "wcwidth           0.2.5\n"
     ]
    }
   ],
   "source": [
    "pip list"
   ]
  },
  {
   "cell_type": "code",
   "execution_count": 9,
   "metadata": {},
   "outputs": [],
   "source": [
    "if not os.path.exists(LABELIMG_PATH):\n",
    "    !mkdir {LABELIMG_PATH}\n",
    "    !git clone https://github.com/tzutalin/labelImg {LABELIMG_PATH}"
   ]
  },
  {
   "cell_type": "code",
   "execution_count": 10,
   "metadata": {},
   "outputs": [],
   "source": [
    "if os.name == 'posix':\n",
    "    !cd {LABELIMG_PATH} && !make qt5py3\n",
    "if os.name =='nt':\n",
    "    !cd {LABELIMG_PATH} && pyrcc5 -o libs/resources.py resources.qrc"
   ]
  },
  {
   "cell_type": "code",
   "execution_count": 23,
   "metadata": {},
   "outputs": [
    {
     "name": "stdout",
     "output_type": "stream",
     "text": [
      "Image:C:\\Users\\Devul Nahar\\OneDrive - University of Illinois - Urbana\\Documents\\GitHub\\Personal-Projects\\Machine Learning\\Computer Vision\\Object Detection\\TFODCourse\\Tensorflow\\workspace\\images\\collectedimages\\thankyou\\thankyou.c3e7dbb7-6d41-11ec-85b0-f1266ffbbee8.jpg -> Annotation:C:/Users/Devul Nahar/OneDrive - University of Illinois - Urbana/Documents/GitHub/Personal-Projects/Machine Learning/Computer Vision/Object Detection/TFODCourse/Tensorflow/workspace/images/collectedimages/thankyou/thankyou.c3e7dbb7-6d41-11ec-85b0-f1266ffbbee8.xml\n",
      "Image:C:\\Users\\Devul Nahar\\OneDrive - University of Illinois - Urbana\\Documents\\GitHub\\Personal-Projects\\Machine Learning\\Computer Vision\\Object Detection\\TFODCourse\\Tensorflow\\workspace\\images\\collectedimages\\thankyou\\thankyou.c04ad2a7-6d41-11ec-8553-f1266ffbbee8.jpg -> Annotation:C:/Users/Devul Nahar/OneDrive - University of Illinois - Urbana/Documents/GitHub/Personal-Projects/Machine Learning/Computer Vision/Object Detection/TFODCourse/Tensorflow/workspace/images/collectedimages/thankyou/thankyou.c04ad2a7-6d41-11ec-8553-f1266ffbbee8.xml\n",
      "ESC press\n",
      "Cancel creation.\n",
      "Image:C:\\Users\\Devul Nahar\\OneDrive - University of Illinois - Urbana\\Documents\\GitHub\\Personal-Projects\\Machine Learning\\Computer Vision\\Object Detection\\TFODCourse\\Tensorflow\\workspace\\images\\collectedimages\\thankyou\\thankyou.c17efb72-6d41-11ec-9310-f1266ffbbee8.jpg -> Annotation:C:/Users/Devul Nahar/OneDrive - University of Illinois - Urbana/Documents/GitHub/Personal-Projects/Machine Learning/Computer Vision/Object Detection/TFODCourse/Tensorflow/workspace/images/collectedimages/thankyou/thankyou.c17efb72-6d41-11ec-9310-f1266ffbbee8.xml\n",
      "Image:C:\\Users\\Devul Nahar\\OneDrive - University of Illinois - Urbana\\Documents\\GitHub\\Personal-Projects\\Machine Learning\\Computer Vision\\Object Detection\\TFODCourse\\Tensorflow\\workspace\\images\\collectedimages\\thankyou\\thankyou.c51c8604-6d41-11ec-9d4c-f1266ffbbee8.jpg -> Annotation:C:/Users/Devul Nahar/OneDrive - University of Illinois - Urbana/Documents/GitHub/Personal-Projects/Machine Learning/Computer Vision/Object Detection/TFODCourse/Tensorflow/workspace/images/collectedimages/thankyou/thankyou.c51c8604-6d41-11ec-9d4c-f1266ffbbee8.xml\n",
      "Image:C:\\Users\\Devul Nahar\\OneDrive - University of Illinois - Urbana\\Documents\\GitHub\\Personal-Projects\\Machine Learning\\Computer Vision\\Object Detection\\TFODCourse\\Tensorflow\\workspace\\images\\collectedimages\\thumbsdown\\thumbsdown.b7d8cc0e-6d41-11ec-8dab-f1266ffbbee8.jpg -> Annotation:C:/Users/Devul Nahar/OneDrive - University of Illinois - Urbana/Documents/GitHub/Personal-Projects/Machine Learning/Computer Vision/Object Detection/TFODCourse/Tensorflow/workspace/images/collectedimages/thumbsdown/thumbsdown.b7d8cc0e-6d41-11ec-8dab-f1266ffbbee8.xml\n",
      "Image:C:\\Users\\Devul Nahar\\OneDrive - University of Illinois - Urbana\\Documents\\GitHub\\Personal-Projects\\Machine Learning\\Computer Vision\\Object Detection\\TFODCourse\\Tensorflow\\workspace\\images\\collectedimages\\thumbsdown\\thumbsdown.b69da574-6d41-11ec-8e20-f1266ffbbee8.jpg -> Annotation:C:/Users/Devul Nahar/OneDrive - University of Illinois - Urbana/Documents/GitHub/Personal-Projects/Machine Learning/Computer Vision/Object Detection/TFODCourse/Tensorflow/workspace/images/collectedimages/thumbsdown/thumbsdown.b69da574-6d41-11ec-8e20-f1266ffbbee8.xml\n",
      "Image:C:\\Users\\Devul Nahar\\OneDrive - University of Illinois - Urbana\\Documents\\GitHub\\Personal-Projects\\Machine Learning\\Computer Vision\\Object Detection\\TFODCourse\\Tensorflow\\workspace\\images\\collectedimages\\thumbsdown\\thumbsdown.b90ff161-6d41-11ec-9614-f1266ffbbee8.jpg -> Annotation:C:/Users/Devul Nahar/OneDrive - University of Illinois - Urbana/Documents/GitHub/Personal-Projects/Machine Learning/Computer Vision/Object Detection/TFODCourse/Tensorflow/workspace/images/collectedimages/thumbsdown/thumbsdown.b90ff161-6d41-11ec-9614-f1266ffbbee8.xml\n",
      "Image:C:\\Users\\Devul Nahar\\OneDrive - University of Illinois - Urbana\\Documents\\GitHub\\Personal-Projects\\Machine Learning\\Computer Vision\\Object Detection\\TFODCourse\\Tensorflow\\workspace\\images\\collectedimages\\thumbsdown\\thumbsdown.ba44b17d-6d41-11ec-9d53-f1266ffbbee8.jpg -> Annotation:C:/Users/Devul Nahar/OneDrive - University of Illinois - Urbana/Documents/GitHub/Personal-Projects/Machine Learning/Computer Vision/Object Detection/TFODCourse/Tensorflow/workspace/images/collectedimages/thumbsdown/thumbsdown.ba44b17d-6d41-11ec-9d53-f1266ffbbee8.xml\n",
      "Image:C:\\Users\\Devul Nahar\\OneDrive - University of Illinois - Urbana\\Documents\\GitHub\\Personal-Projects\\Machine Learning\\Computer Vision\\Object Detection\\TFODCourse\\Tensorflow\\workspace\\images\\collectedimages\\thumbsdown\\thumbsdown.bb79d705-6d41-11ec-b1a7-f1266ffbbee8.jpg -> Annotation:C:/Users/Devul Nahar/OneDrive - University of Illinois - Urbana/Documents/GitHub/Personal-Projects/Machine Learning/Computer Vision/Object Detection/TFODCourse/Tensorflow/workspace/images/collectedimages/thumbsdown/thumbsdown.bb79d705-6d41-11ec-b1a7-f1266ffbbee8.xml\n",
      "Image:C:\\Users\\Devul Nahar\\OneDrive - University of Illinois - Urbana\\Documents\\GitHub\\Personal-Projects\\Machine Learning\\Computer Vision\\Object Detection\\TFODCourse\\Tensorflow\\workspace\\images\\collectedimages\\thumbsup\\thumbsup.aceccf49-6d41-11ec-8990-f1266ffbbee8.jpg -> Annotation:C:/Users/Devul Nahar/OneDrive - University of Illinois - Urbana/Documents/GitHub/Personal-Projects/Machine Learning/Computer Vision/Object Detection/TFODCourse/Tensorflow/workspace/images/collectedimages/thumbsup/thumbsup.aceccf49-6d41-11ec-8990-f1266ffbbee8.xml\n",
      "Image:C:\\Users\\Devul Nahar\\OneDrive - University of Illinois - Urbana\\Documents\\GitHub\\Personal-Projects\\Machine Learning\\Computer Vision\\Object Detection\\TFODCourse\\Tensorflow\\workspace\\images\\collectedimages\\thumbsup\\thumbsup.ae26c169-6d41-11ec-8538-f1266ffbbee8.jpg -> Annotation:C:/Users/Devul Nahar/OneDrive - University of Illinois - Urbana/Documents/GitHub/Personal-Projects/Machine Learning/Computer Vision/Object Detection/TFODCourse/Tensorflow/workspace/images/collectedimages/thumbsup/thumbsup.ae26c169-6d41-11ec-8538-f1266ffbbee8.xml\n",
      "Image:C:\\Users\\Devul Nahar\\OneDrive - University of Illinois - Urbana\\Documents\\GitHub\\Personal-Projects\\Machine Learning\\Computer Vision\\Object Detection\\TFODCourse\\Tensorflow\\workspace\\images\\collectedimages\\thumbsup\\thumbsup.af5e4f03-6d41-11ec-a101-f1266ffbbee8.jpg -> Annotation:C:/Users/Devul Nahar/OneDrive - University of Illinois - Urbana/Documents/GitHub/Personal-Projects/Machine Learning/Computer Vision/Object Detection/TFODCourse/Tensorflow/workspace/images/collectedimages/thumbsup/thumbsup.af5e4f03-6d41-11ec-a101-f1266ffbbee8.xml\n",
      "Image:C:\\Users\\Devul Nahar\\OneDrive - University of Illinois - Urbana\\Documents\\GitHub\\Personal-Projects\\Machine Learning\\Computer Vision\\Object Detection\\TFODCourse\\Tensorflow\\workspace\\images\\collectedimages\\thumbsup\\thumbsup.b1c6659c-6d41-11ec-b09f-f1266ffbbee8.jpg -> Annotation:C:/Users/Devul Nahar/OneDrive - University of Illinois - Urbana/Documents/GitHub/Personal-Projects/Machine Learning/Computer Vision/Object Detection/TFODCourse/Tensorflow/workspace/images/collectedimages/thumbsup/thumbsup.b1c6659c-6d41-11ec-b09f-f1266ffbbee8.xml\n",
      "Image:C:\\Users\\Devul Nahar\\OneDrive - University of Illinois - Urbana\\Documents\\GitHub\\Personal-Projects\\Machine Learning\\Computer Vision\\Object Detection\\TFODCourse\\Tensorflow\\workspace\\images\\collectedimages\\thumbsup\\thumbsup.b0933cfb-6d41-11ec-84af-f1266ffbbee8.jpg -> Annotation:C:/Users/Devul Nahar/OneDrive - University of Illinois - Urbana/Documents/GitHub/Personal-Projects/Machine Learning/Computer Vision/Object Detection/TFODCourse/Tensorflow/workspace/images/collectedimages/thumbsup/thumbsup.b0933cfb-6d41-11ec-84af-f1266ffbbee8.xml\n"
     ]
    }
   ],
   "source": [
    "!cd {LABELIMG_PATH} && python labelImg.py"
   ]
  },
  {
   "cell_type": "markdown",
   "metadata": {},
   "source": [
    "# 6. Move them into a Training and Testing Partition"
   ]
  },
  {
   "cell_type": "markdown",
   "metadata": {},
   "source": [
    "# OPTIONAL - 7. Compress them for Colab Training"
   ]
  },
  {
   "cell_type": "code",
   "execution_count": 5,
   "metadata": {},
   "outputs": [],
   "source": [
    "TRAIN_PATH = os.path.join('Tensorflow', 'workspace', 'images', 'train')\n",
    "TEST_PATH = os.path.join('Tensorflow', 'workspace', 'images', 'test')\n",
    "ARCHIVE_PATH = os.path.join('Tensorflow', 'workspace', 'images', 'archive.tar.gz')"
   ]
  },
  {
   "cell_type": "code",
   "execution_count": 6,
   "metadata": {},
   "outputs": [],
   "source": [
    "!tar -czf {ARCHIVE_PATH} {TRAIN_PATH} {TEST_PATH}"
   ]
  },
  {
   "cell_type": "code",
   "execution_count": null,
   "metadata": {},
   "outputs": [],
   "source": []
  }
 ],
 "metadata": {
  "kernelspec": {
   "display_name": "tfod",
   "language": "python",
   "name": "tfod"
  },
  "language_info": {
   "codemirror_mode": {
    "name": "ipython",
    "version": 3
   },
   "file_extension": ".py",
   "mimetype": "text/x-python",
   "name": "python",
   "nbconvert_exporter": "python",
   "pygments_lexer": "ipython3",
   "version": "3.8.8"
  }
 },
 "nbformat": 4,
 "nbformat_minor": 2
}
